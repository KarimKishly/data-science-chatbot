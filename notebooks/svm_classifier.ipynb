{
 "cells": [
  {
   "cell_type": "code",
   "id": "initial_id",
   "metadata": {
    "collapsed": true,
    "ExecuteTime": {
     "end_time": "2024-05-05T10:36:00.219510Z",
     "start_time": "2024-05-05T10:35:59.971306Z"
    }
   },
   "source": [
    "import pandas as pd\n",
    "\n",
    "df = pd.read_csv('../assets/patient/patient_concat.csv', index_col=0)\n",
    "df"
   ],
   "outputs": [
    {
     "data": {
      "text/plain": [
       "                                               message       message_type\n",
       "0                                                   Hi      patient_greet\n",
       "1                                                Hello      patient_greet\n",
       "2                                            Hey there      patient_greet\n",
       "3                                         Good morning      patient_greet\n",
       "4                                       Good afternoon      patient_greet\n",
       "..                                                 ...                ...\n",
       "450      Unfortunately, I have a conflicting schedule.  patient_rejection\n",
       "451     Sorry, that time doesn't suit my availability.  patient_rejection\n",
       "452    I need to cancel as I have another appointment.  patient_rejection\n",
       "453  Unfortunately, I won't be available at that time.  patient_rejection\n",
       "454         Sorry, that time doesn't suit my schedule.  patient_rejection\n",
       "\n",
       "[455 rows x 2 columns]"
      ],
      "text/html": [
       "<div>\n",
       "<style scoped>\n",
       "    .dataframe tbody tr th:only-of-type {\n",
       "        vertical-align: middle;\n",
       "    }\n",
       "\n",
       "    .dataframe tbody tr th {\n",
       "        vertical-align: top;\n",
       "    }\n",
       "\n",
       "    .dataframe thead th {\n",
       "        text-align: right;\n",
       "    }\n",
       "</style>\n",
       "<table border=\"1\" class=\"dataframe\">\n",
       "  <thead>\n",
       "    <tr style=\"text-align: right;\">\n",
       "      <th></th>\n",
       "      <th>message</th>\n",
       "      <th>message_type</th>\n",
       "    </tr>\n",
       "  </thead>\n",
       "  <tbody>\n",
       "    <tr>\n",
       "      <th>0</th>\n",
       "      <td>Hi</td>\n",
       "      <td>patient_greet</td>\n",
       "    </tr>\n",
       "    <tr>\n",
       "      <th>1</th>\n",
       "      <td>Hello</td>\n",
       "      <td>patient_greet</td>\n",
       "    </tr>\n",
       "    <tr>\n",
       "      <th>2</th>\n",
       "      <td>Hey there</td>\n",
       "      <td>patient_greet</td>\n",
       "    </tr>\n",
       "    <tr>\n",
       "      <th>3</th>\n",
       "      <td>Good morning</td>\n",
       "      <td>patient_greet</td>\n",
       "    </tr>\n",
       "    <tr>\n",
       "      <th>4</th>\n",
       "      <td>Good afternoon</td>\n",
       "      <td>patient_greet</td>\n",
       "    </tr>\n",
       "    <tr>\n",
       "      <th>...</th>\n",
       "      <td>...</td>\n",
       "      <td>...</td>\n",
       "    </tr>\n",
       "    <tr>\n",
       "      <th>450</th>\n",
       "      <td>Unfortunately, I have a conflicting schedule.</td>\n",
       "      <td>patient_rejection</td>\n",
       "    </tr>\n",
       "    <tr>\n",
       "      <th>451</th>\n",
       "      <td>Sorry, that time doesn't suit my availability.</td>\n",
       "      <td>patient_rejection</td>\n",
       "    </tr>\n",
       "    <tr>\n",
       "      <th>452</th>\n",
       "      <td>I need to cancel as I have another appointment.</td>\n",
       "      <td>patient_rejection</td>\n",
       "    </tr>\n",
       "    <tr>\n",
       "      <th>453</th>\n",
       "      <td>Unfortunately, I won't be available at that time.</td>\n",
       "      <td>patient_rejection</td>\n",
       "    </tr>\n",
       "    <tr>\n",
       "      <th>454</th>\n",
       "      <td>Sorry, that time doesn't suit my schedule.</td>\n",
       "      <td>patient_rejection</td>\n",
       "    </tr>\n",
       "  </tbody>\n",
       "</table>\n",
       "<p>455 rows × 2 columns</p>\n",
       "</div>"
      ]
     },
     "execution_count": 1,
     "metadata": {},
     "output_type": "execute_result"
    }
   ],
   "execution_count": 1
  },
  {
   "metadata": {
    "ExecuteTime": {
     "end_time": "2024-05-05T10:36:57.577077Z",
     "start_time": "2024-05-05T10:36:57.555823Z"
    }
   },
   "cell_type": "code",
   "source": [
    "from sklearn.feature_extraction.text import TfidfVectorizer\n",
    "from sklearn.model_selection import train_test_split\n",
    "from sklearn.svm import SVC\n",
    "import joblib\n",
    "\n",
    "tfidf_vectorizer = TfidfVectorizer(lowercase=True)\n",
    "X_full = df['message'].sort_index().values\n",
    "y_full = df['message_type'].sort_index().values\n",
    "X_train, X_test, y_train, y_test = train_test_split(df['message'], df['message_type'], test_size=0.2, random_state=42)\n",
    "message_tfidf = tfidf_vectorizer.fit_transform(X_train)"
   ],
   "id": "eda588e9f77701b",
   "outputs": [],
   "execution_count": 5
  },
  {
   "metadata": {
    "ExecuteTime": {
     "end_time": "2024-05-05T10:36:58.776342Z",
     "start_time": "2024-05-05T10:36:58.700615Z"
    }
   },
   "cell_type": "code",
   "source": [
    "svm = SVC()\n",
    "svm.fit(message_tfidf, y_train)\n",
    "\n",
    "print('SVM score:', svm.score(tfidf_vectorizer.transform(X_test), y_test))\n",
    "\n",
    "message_tfidf = tfidf_vectorizer.fit_transform(X_full)\n",
    "svm.fit(message_tfidf, y_full)   \n",
    "\n",
    "joblib.dump(tfidf_vectorizer, '../assets/vectorizer.joblib')   \n",
    "joblib.dump(svm, '../assets/svm_model.joblib')"
   ],
   "id": "4adadd0430df0d79",
   "outputs": [
    {
     "name": "stdout",
     "output_type": "stream",
     "text": [
      "SVM score: 0.9560439560439561\n"
     ]
    },
    {
     "data": {
      "text/plain": [
       "['../assets/svm_model.joblib']"
      ]
     },
     "execution_count": 6,
     "metadata": {},
     "output_type": "execute_result"
    }
   ],
   "execution_count": 6
  }
 ],
 "metadata": {
  "kernelspec": {
   "display_name": "Python 3",
   "language": "python",
   "name": "python3"
  },
  "language_info": {
   "codemirror_mode": {
    "name": "ipython",
    "version": 2
   },
   "file_extension": ".py",
   "mimetype": "text/x-python",
   "name": "python",
   "nbconvert_exporter": "python",
   "pygments_lexer": "ipython2",
   "version": "2.7.6"
  }
 },
 "nbformat": 4,
 "nbformat_minor": 5
}
