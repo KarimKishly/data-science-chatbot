{
 "cells": [
  {
   "cell_type": "code",
   "id": "initial_id",
   "metadata": {
    "collapsed": true,
    "ExecuteTime": {
     "end_time": "2024-05-05T11:04:52.453294Z",
     "start_time": "2024-05-05T11:04:52.429994Z"
    }
   },
   "source": [
    "import pandas as pd\n",
    "import numpy as np\n",
    "\n",
    "df = pd.read_csv('../assets/patient/patient_concat.csv', index_col=0)\n",
    "df"
   ],
   "outputs": [
    {
     "data": {
      "text/plain": [
       "                                               message       message_type\n",
       "0                                                   Hi      patient_greet\n",
       "1                                                Hello      patient_greet\n",
       "2                                            Hey there      patient_greet\n",
       "3                                         Good morning      patient_greet\n",
       "4                                       Good afternoon      patient_greet\n",
       "..                                                 ...                ...\n",
       "450      Unfortunately, I have a conflicting schedule.  patient_rejection\n",
       "451     Sorry, that time doesn't suit my availability.  patient_rejection\n",
       "452    I need to cancel as I have another appointment.  patient_rejection\n",
       "453  Unfortunately, I won't be available at that time.  patient_rejection\n",
       "454         Sorry, that time doesn't suit my schedule.  patient_rejection\n",
       "\n",
       "[455 rows x 2 columns]"
      ],
      "text/html": [
       "<div>\n",
       "<style scoped>\n",
       "    .dataframe tbody tr th:only-of-type {\n",
       "        vertical-align: middle;\n",
       "    }\n",
       "\n",
       "    .dataframe tbody tr th {\n",
       "        vertical-align: top;\n",
       "    }\n",
       "\n",
       "    .dataframe thead th {\n",
       "        text-align: right;\n",
       "    }\n",
       "</style>\n",
       "<table border=\"1\" class=\"dataframe\">\n",
       "  <thead>\n",
       "    <tr style=\"text-align: right;\">\n",
       "      <th></th>\n",
       "      <th>message</th>\n",
       "      <th>message_type</th>\n",
       "    </tr>\n",
       "  </thead>\n",
       "  <tbody>\n",
       "    <tr>\n",
       "      <th>0</th>\n",
       "      <td>Hi</td>\n",
       "      <td>patient_greet</td>\n",
       "    </tr>\n",
       "    <tr>\n",
       "      <th>1</th>\n",
       "      <td>Hello</td>\n",
       "      <td>patient_greet</td>\n",
       "    </tr>\n",
       "    <tr>\n",
       "      <th>2</th>\n",
       "      <td>Hey there</td>\n",
       "      <td>patient_greet</td>\n",
       "    </tr>\n",
       "    <tr>\n",
       "      <th>3</th>\n",
       "      <td>Good morning</td>\n",
       "      <td>patient_greet</td>\n",
       "    </tr>\n",
       "    <tr>\n",
       "      <th>4</th>\n",
       "      <td>Good afternoon</td>\n",
       "      <td>patient_greet</td>\n",
       "    </tr>\n",
       "    <tr>\n",
       "      <th>...</th>\n",
       "      <td>...</td>\n",
       "      <td>...</td>\n",
       "    </tr>\n",
       "    <tr>\n",
       "      <th>450</th>\n",
       "      <td>Unfortunately, I have a conflicting schedule.</td>\n",
       "      <td>patient_rejection</td>\n",
       "    </tr>\n",
       "    <tr>\n",
       "      <th>451</th>\n",
       "      <td>Sorry, that time doesn't suit my availability.</td>\n",
       "      <td>patient_rejection</td>\n",
       "    </tr>\n",
       "    <tr>\n",
       "      <th>452</th>\n",
       "      <td>I need to cancel as I have another appointment.</td>\n",
       "      <td>patient_rejection</td>\n",
       "    </tr>\n",
       "    <tr>\n",
       "      <th>453</th>\n",
       "      <td>Unfortunately, I won't be available at that time.</td>\n",
       "      <td>patient_rejection</td>\n",
       "    </tr>\n",
       "    <tr>\n",
       "      <th>454</th>\n",
       "      <td>Sorry, that time doesn't suit my schedule.</td>\n",
       "      <td>patient_rejection</td>\n",
       "    </tr>\n",
       "  </tbody>\n",
       "</table>\n",
       "<p>455 rows × 2 columns</p>\n",
       "</div>"
      ]
     },
     "execution_count": 12,
     "metadata": {},
     "output_type": "execute_result"
    }
   ],
   "execution_count": 12
  },
  {
   "metadata": {
    "ExecuteTime": {
     "end_time": "2024-05-05T11:04:52.484392Z",
     "start_time": "2024-05-05T11:04:52.455184Z"
    }
   },
   "cell_type": "code",
   "source": [
    "from sklearn.feature_extraction.text import TfidfVectorizer\n",
    "from sklearn.model_selection import train_test_split\n",
    "import joblib\n",
    "\n",
    "tfidf_vectorizer = TfidfVectorizer(lowercase=True)\n",
    "X_full = df['message'].sort_index().values\n",
    "y_full = df['message_type'].sort_index().values\n",
    "X_train, X_test, y_train, y_test = train_test_split(df['message'], df['message_type'], test_size=0.2, random_state=42)\n",
    "message_tfidf = tfidf_vectorizer.fit_transform(X_train)\n",
    "joblib.dump(tfidf_vectorizer, '../assets/nn_vectorizer.joblib')"
   ],
   "id": "19f48e813f296aca",
   "outputs": [
    {
     "data": {
      "text/plain": [
       "['../assets/nn_vectorizer.joblib']"
      ]
     },
     "execution_count": 13,
     "metadata": {},
     "output_type": "execute_result"
    }
   ],
   "execution_count": 13
  },
  {
   "metadata": {
    "ExecuteTime": {
     "end_time": "2024-05-05T11:04:52.531044Z",
     "start_time": "2024-05-05T11:04:52.485419Z"
    }
   },
   "cell_type": "code",
   "source": [
    "import tensorflow as tf\n",
    "from tensorflow.keras.models import Sequential\n",
    "from tensorflow.keras.layers import Dense\n",
    "from tensorflow.keras.utils import to_categorical\n",
    "from sklearn.preprocessing import LabelEncoder\n",
    "\n",
    "le = LabelEncoder()\n",
    "y_train_encoded = le.fit_transform(y_train)\n",
    "y_train_categorical = to_categorical(y_train_encoded)\n",
    "y_test_encoded = le.fit_transform(y_test)\n",
    "y_test_categorical = to_categorical(y_test_encoded)\n",
    "\n",
    "x_test = tfidf_vectorizer.transform(X_test)\n",
    "\n",
    "model = Sequential()\n",
    "\n",
    "model.add(Dense(units=50, activation='relu', input_shape=(message_tfidf.shape[1],)))\n",
    "\n",
    "model.add(Dense(units=30, activation='relu'))\n",
    "\n",
    "model.add(Dense(units=20, activation='relu'))\n",
    "\n",
    "model.add(Dense(len(le.classes_), activation='softmax'))"
   ],
   "id": "ba9d8be0a0d7cf7d",
   "outputs": [],
   "execution_count": 14
  },
  {
   "metadata": {
    "ExecuteTime": {
     "end_time": "2024-05-05T11:04:55.747427Z",
     "start_time": "2024-05-05T11:04:52.532488Z"
    }
   },
   "cell_type": "code",
   "source": [
    "\n",
    "model.compile(optimizer='adam', loss='categorical_crossentropy', metrics=['accuracy','categorical_crossentropy' ,'mean_squared_error', 'mean_absolute_error'])\n",
    "\n",
    "with tf.device('/gpu:0'):\n",
    "    model.fit(message_tfidf.toarray(), y_train_categorical, epochs=30, validation_data=(x_test.toarray(), y_test_categorical)) \n",
    "\n",
    "model.save('../assets/neural_network.h5')\n",
    "joblib.dump(le, '../assets/label_encoder.joblib')"
   ],
   "id": "3a2bc7cfdf6b1d50",
   "outputs": [
    {
     "name": "stdout",
     "output_type": "stream",
     "text": [
      "Epoch 1/30\n",
      "12/12 [==============================] - 1s 20ms/step - loss: 1.3810 - accuracy: 0.3709 - categorical_crossentropy: 1.3810 - mean_squared_error: 0.1868 - mean_absolute_error: 0.3743 - val_loss: 1.3622 - val_accuracy: 0.6154 - val_categorical_crossentropy: 1.3622 - val_mean_squared_error: 0.1845 - val_mean_absolute_error: 0.3719\n",
      "Epoch 2/30\n",
      "12/12 [==============================] - 0s 7ms/step - loss: 1.3453 - accuracy: 0.7335 - categorical_crossentropy: 1.3453 - mean_squared_error: 0.1823 - mean_absolute_error: 0.3697 - val_loss: 1.3182 - val_accuracy: 0.8352 - val_categorical_crossentropy: 1.3182 - val_mean_squared_error: 0.1788 - val_mean_absolute_error: 0.3661\n",
      "Epoch 3/30\n",
      "12/12 [==============================] - 0s 8ms/step - loss: 1.2846 - accuracy: 0.8956 - categorical_crossentropy: 1.2846 - mean_squared_error: 0.1745 - mean_absolute_error: 0.3615 - val_loss: 1.2362 - val_accuracy: 0.8571 - val_categorical_crossentropy: 1.2362 - val_mean_squared_error: 0.1680 - val_mean_absolute_error: 0.3545\n",
      "Epoch 4/30\n",
      "12/12 [==============================] - 0s 7ms/step - loss: 1.1738 - accuracy: 0.9533 - categorical_crossentropy: 1.1738 - mean_squared_error: 0.1596 - mean_absolute_error: 0.3449 - val_loss: 1.0888 - val_accuracy: 0.9231 - val_categorical_crossentropy: 1.0888 - val_mean_squared_error: 0.1477 - val_mean_absolute_error: 0.3308\n",
      "Epoch 5/30\n",
      "12/12 [==============================] - 0s 7ms/step - loss: 0.9874 - accuracy: 0.9753 - categorical_crossentropy: 0.9874 - mean_squared_error: 0.1331 - mean_absolute_error: 0.3121 - val_loss: 0.8622 - val_accuracy: 0.9670 - val_categorical_crossentropy: 0.8622 - val_mean_squared_error: 0.1143 - val_mean_absolute_error: 0.2865\n",
      "Epoch 6/30\n",
      "12/12 [==============================] - 0s 7ms/step - loss: 0.7312 - accuracy: 0.9945 - categorical_crossentropy: 0.7312 - mean_squared_error: 0.0943 - mean_absolute_error: 0.2561 - val_loss: 0.5917 - val_accuracy: 0.9890 - val_categorical_crossentropy: 0.5917 - val_mean_squared_error: 0.0723 - val_mean_absolute_error: 0.2189\n",
      "Epoch 7/30\n",
      "12/12 [==============================] - 0s 6ms/step - loss: 0.4666 - accuracy: 0.9973 - categorical_crossentropy: 0.4666 - mean_squared_error: 0.0532 - mean_absolute_error: 0.1816 - val_loss: 0.3570 - val_accuracy: 0.9890 - val_categorical_crossentropy: 0.3570 - val_mean_squared_error: 0.0372 - val_mean_absolute_error: 0.1440\n",
      "Epoch 8/30\n",
      "12/12 [==============================] - 0s 7ms/step - loss: 0.2641 - accuracy: 1.0000 - categorical_crossentropy: 0.2641 - mean_squared_error: 0.0246 - mean_absolute_error: 0.1112 - val_loss: 0.2085 - val_accuracy: 1.0000 - val_categorical_crossentropy: 0.2085 - val_mean_squared_error: 0.0187 - val_mean_absolute_error: 0.0880\n",
      "Epoch 9/30\n",
      "12/12 [==============================] - 0s 6ms/step - loss: 0.1405 - accuracy: 1.0000 - categorical_crossentropy: 0.1405 - mean_squared_error: 0.0099 - mean_absolute_error: 0.0627 - val_loss: 0.1245 - val_accuracy: 1.0000 - val_categorical_crossentropy: 0.1245 - val_mean_squared_error: 0.0100 - val_mean_absolute_error: 0.0538\n",
      "Epoch 10/30\n",
      "12/12 [==============================] - 0s 7ms/step - loss: 0.0770 - accuracy: 1.0000 - categorical_crossentropy: 0.0770 - mean_squared_error: 0.0040 - mean_absolute_error: 0.0356 - val_loss: 0.0812 - val_accuracy: 1.0000 - val_categorical_crossentropy: 0.0812 - val_mean_squared_error: 0.0062 - val_mean_absolute_error: 0.0355\n",
      "Epoch 11/30\n",
      "12/12 [==============================] - 0s 6ms/step - loss: 0.0448 - accuracy: 1.0000 - categorical_crossentropy: 0.0448 - mean_squared_error: 0.0017 - mean_absolute_error: 0.0212 - val_loss: 0.0608 - val_accuracy: 1.0000 - val_categorical_crossentropy: 0.0608 - val_mean_squared_error: 0.0047 - val_mean_absolute_error: 0.0266\n",
      "Epoch 12/30\n",
      "12/12 [==============================] - 0s 7ms/step - loss: 0.0277 - accuracy: 1.0000 - categorical_crossentropy: 0.0277 - mean_squared_error: 7.0715e-04 - mean_absolute_error: 0.0134 - val_loss: 0.0487 - val_accuracy: 1.0000 - val_categorical_crossentropy: 0.0487 - val_mean_squared_error: 0.0038 - val_mean_absolute_error: 0.0214\n",
      "Epoch 13/30\n",
      "12/12 [==============================] - 0s 7ms/step - loss: 0.0189 - accuracy: 1.0000 - categorical_crossentropy: 0.0189 - mean_squared_error: 3.5238e-04 - mean_absolute_error: 0.0092 - val_loss: 0.0410 - val_accuracy: 1.0000 - val_categorical_crossentropy: 0.0410 - val_mean_squared_error: 0.0032 - val_mean_absolute_error: 0.0180\n",
      "Epoch 14/30\n",
      "12/12 [==============================] - 0s 7ms/step - loss: 0.0132 - accuracy: 1.0000 - categorical_crossentropy: 0.0132 - mean_squared_error: 1.8166e-04 - mean_absolute_error: 0.0065 - val_loss: 0.0353 - val_accuracy: 1.0000 - val_categorical_crossentropy: 0.0353 - val_mean_squared_error: 0.0028 - val_mean_absolute_error: 0.0155\n",
      "Epoch 15/30\n",
      "12/12 [==============================] - 0s 7ms/step - loss: 0.0097 - accuracy: 1.0000 - categorical_crossentropy: 0.0097 - mean_squared_error: 1.0310e-04 - mean_absolute_error: 0.0048 - val_loss: 0.0319 - val_accuracy: 1.0000 - val_categorical_crossentropy: 0.0319 - val_mean_squared_error: 0.0025 - val_mean_absolute_error: 0.0140\n",
      "Epoch 16/30\n",
      "12/12 [==============================] - 0s 6ms/step - loss: 0.0076 - accuracy: 1.0000 - categorical_crossentropy: 0.0076 - mean_squared_error: 6.2832e-05 - mean_absolute_error: 0.0037 - val_loss: 0.0291 - val_accuracy: 1.0000 - val_categorical_crossentropy: 0.0291 - val_mean_squared_error: 0.0023 - val_mean_absolute_error: 0.0128\n",
      "Epoch 17/30\n",
      "12/12 [==============================] - 0s 6ms/step - loss: 0.0061 - accuracy: 1.0000 - categorical_crossentropy: 0.0061 - mean_squared_error: 4.2102e-05 - mean_absolute_error: 0.0030 - val_loss: 0.0266 - val_accuracy: 1.0000 - val_categorical_crossentropy: 0.0266 - val_mean_squared_error: 0.0020 - val_mean_absolute_error: 0.0118\n",
      "Epoch 18/30\n",
      "12/12 [==============================] - 0s 8ms/step - loss: 0.0050 - accuracy: 1.0000 - categorical_crossentropy: 0.0050 - mean_squared_error: 2.7165e-05 - mean_absolute_error: 0.0025 - val_loss: 0.0253 - val_accuracy: 1.0000 - val_categorical_crossentropy: 0.0253 - val_mean_squared_error: 0.0019 - val_mean_absolute_error: 0.0112\n",
      "Epoch 19/30\n",
      "12/12 [==============================] - 0s 7ms/step - loss: 0.0043 - accuracy: 1.0000 - categorical_crossentropy: 0.0043 - mean_squared_error: 2.0560e-05 - mean_absolute_error: 0.0021 - val_loss: 0.0237 - val_accuracy: 1.0000 - val_categorical_crossentropy: 0.0237 - val_mean_squared_error: 0.0018 - val_mean_absolute_error: 0.0105\n",
      "Epoch 20/30\n",
      "12/12 [==============================] - 0s 7ms/step - loss: 0.0036 - accuracy: 1.0000 - categorical_crossentropy: 0.0036 - mean_squared_error: 1.4101e-05 - mean_absolute_error: 0.0018 - val_loss: 0.0224 - val_accuracy: 1.0000 - val_categorical_crossentropy: 0.0224 - val_mean_squared_error: 0.0017 - val_mean_absolute_error: 0.0100\n",
      "Epoch 21/30\n",
      "12/12 [==============================] - 0s 7ms/step - loss: 0.0031 - accuracy: 1.0000 - categorical_crossentropy: 0.0031 - mean_squared_error: 1.0430e-05 - mean_absolute_error: 0.0016 - val_loss: 0.0211 - val_accuracy: 1.0000 - val_categorical_crossentropy: 0.0211 - val_mean_squared_error: 0.0015 - val_mean_absolute_error: 0.0094\n",
      "Epoch 22/30\n",
      "12/12 [==============================] - 0s 7ms/step - loss: 0.0027 - accuracy: 1.0000 - categorical_crossentropy: 0.0027 - mean_squared_error: 7.8503e-06 - mean_absolute_error: 0.0014 - val_loss: 0.0202 - val_accuracy: 1.0000 - val_categorical_crossentropy: 0.0202 - val_mean_squared_error: 0.0014 - val_mean_absolute_error: 0.0090\n",
      "Epoch 23/30\n",
      "12/12 [==============================] - 0s 7ms/step - loss: 0.0024 - accuracy: 1.0000 - categorical_crossentropy: 0.0024 - mean_squared_error: 6.1497e-06 - mean_absolute_error: 0.0012 - val_loss: 0.0196 - val_accuracy: 1.0000 - val_categorical_crossentropy: 0.0196 - val_mean_squared_error: 0.0014 - val_mean_absolute_error: 0.0088\n",
      "Epoch 24/30\n",
      "12/12 [==============================] - 0s 8ms/step - loss: 0.0022 - accuracy: 1.0000 - categorical_crossentropy: 0.0022 - mean_squared_error: 5.0247e-06 - mean_absolute_error: 0.0011 - val_loss: 0.0187 - val_accuracy: 1.0000 - val_categorical_crossentropy: 0.0187 - val_mean_squared_error: 0.0013 - val_mean_absolute_error: 0.0084\n",
      "Epoch 25/30\n",
      "12/12 [==============================] - 0s 6ms/step - loss: 0.0019 - accuracy: 1.0000 - categorical_crossentropy: 0.0019 - mean_squared_error: 3.8942e-06 - mean_absolute_error: 9.5527e-04 - val_loss: 0.0182 - val_accuracy: 1.0000 - val_categorical_crossentropy: 0.0182 - val_mean_squared_error: 0.0013 - val_mean_absolute_error: 0.0082\n",
      "Epoch 26/30\n",
      "12/12 [==============================] - 0s 7ms/step - loss: 0.0017 - accuracy: 1.0000 - categorical_crossentropy: 0.0017 - mean_squared_error: 3.2767e-06 - mean_absolute_error: 8.6630e-04 - val_loss: 0.0178 - val_accuracy: 1.0000 - val_categorical_crossentropy: 0.0178 - val_mean_squared_error: 0.0012 - val_mean_absolute_error: 0.0080\n",
      "Epoch 27/30\n",
      "12/12 [==============================] - 0s 7ms/step - loss: 0.0016 - accuracy: 1.0000 - categorical_crossentropy: 0.0016 - mean_squared_error: 2.7320e-06 - mean_absolute_error: 7.8681e-04 - val_loss: 0.0175 - val_accuracy: 1.0000 - val_categorical_crossentropy: 0.0175 - val_mean_squared_error: 0.0012 - val_mean_absolute_error: 0.0079\n",
      "Epoch 28/30\n",
      "12/12 [==============================] - 0s 7ms/step - loss: 0.0014 - accuracy: 1.0000 - categorical_crossentropy: 0.0014 - mean_squared_error: 2.3159e-06 - mean_absolute_error: 7.2046e-04 - val_loss: 0.0171 - val_accuracy: 1.0000 - val_categorical_crossentropy: 0.0171 - val_mean_squared_error: 0.0012 - val_mean_absolute_error: 0.0077\n",
      "Epoch 29/30\n",
      "12/12 [==============================] - 0s 7ms/step - loss: 0.0013 - accuracy: 1.0000 - categorical_crossentropy: 0.0013 - mean_squared_error: 1.9931e-06 - mean_absolute_error: 6.6383e-04 - val_loss: 0.0167 - val_accuracy: 1.0000 - val_categorical_crossentropy: 0.0167 - val_mean_squared_error: 0.0012 - val_mean_absolute_error: 0.0075\n",
      "Epoch 30/30\n",
      "12/12 [==============================] - 0s 7ms/step - loss: 0.0012 - accuracy: 1.0000 - categorical_crossentropy: 0.0012 - mean_squared_error: 1.7001e-06 - mean_absolute_error: 6.1224e-04 - val_loss: 0.0163 - val_accuracy: 1.0000 - val_categorical_crossentropy: 0.0163 - val_mean_squared_error: 0.0011 - val_mean_absolute_error: 0.0074\n"
     ]
    },
    {
     "data": {
      "text/plain": [
       "['../assets/label_encoder.joblib']"
      ]
     },
     "execution_count": 15,
     "metadata": {},
     "output_type": "execute_result"
    }
   ],
   "execution_count": 15
  }
 ],
 "metadata": {
  "kernelspec": {
   "display_name": "Python 3",
   "language": "python",
   "name": "python3"
  },
  "language_info": {
   "codemirror_mode": {
    "name": "ipython",
    "version": 2
   },
   "file_extension": ".py",
   "mimetype": "text/x-python",
   "name": "python",
   "nbconvert_exporter": "python",
   "pygments_lexer": "ipython2",
   "version": "2.7.6"
  }
 },
 "nbformat": 4,
 "nbformat_minor": 5
}
