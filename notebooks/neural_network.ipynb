{
 "cells": [
  {
   "cell_type": "code",
   "id": "initial_id",
   "metadata": {
    "collapsed": true,
    "ExecuteTime": {
     "end_time": "2024-05-08T17:16:08.673714Z",
     "start_time": "2024-05-08T17:16:08.424195Z"
    }
   },
   "source": [
    "import pandas as pd\n",
    "import numpy as np\n",
    "\n",
    "df = pd.read_csv('../assets/patient/patient_concat.csv', index_col=0)\n",
    "df"
   ],
   "outputs": [
    {
     "data": {
      "text/plain": [
       "                                               message       message_type\n",
       "0                                                   Hi      patient_greet\n",
       "1                                                Hello      patient_greet\n",
       "2                                            Hey there      patient_greet\n",
       "3                                         Good morning      patient_greet\n",
       "4                                       Good afternoon      patient_greet\n",
       "..                                                 ...                ...\n",
       "450      Unfortunately, I have a conflicting schedule.  patient_rejection\n",
       "451     Sorry, that time doesn't suit my availability.  patient_rejection\n",
       "452    I need to cancel as I have another appointment.  patient_rejection\n",
       "453  Unfortunately, I won't be available at that time.  patient_rejection\n",
       "454         Sorry, that time doesn't suit my schedule.  patient_rejection\n",
       "\n",
       "[455 rows x 2 columns]"
      ],
      "text/html": [
       "<div>\n",
       "<style scoped>\n",
       "    .dataframe tbody tr th:only-of-type {\n",
       "        vertical-align: middle;\n",
       "    }\n",
       "\n",
       "    .dataframe tbody tr th {\n",
       "        vertical-align: top;\n",
       "    }\n",
       "\n",
       "    .dataframe thead th {\n",
       "        text-align: right;\n",
       "    }\n",
       "</style>\n",
       "<table border=\"1\" class=\"dataframe\">\n",
       "  <thead>\n",
       "    <tr style=\"text-align: right;\">\n",
       "      <th></th>\n",
       "      <th>message</th>\n",
       "      <th>message_type</th>\n",
       "    </tr>\n",
       "  </thead>\n",
       "  <tbody>\n",
       "    <tr>\n",
       "      <th>0</th>\n",
       "      <td>Hi</td>\n",
       "      <td>patient_greet</td>\n",
       "    </tr>\n",
       "    <tr>\n",
       "      <th>1</th>\n",
       "      <td>Hello</td>\n",
       "      <td>patient_greet</td>\n",
       "    </tr>\n",
       "    <tr>\n",
       "      <th>2</th>\n",
       "      <td>Hey there</td>\n",
       "      <td>patient_greet</td>\n",
       "    </tr>\n",
       "    <tr>\n",
       "      <th>3</th>\n",
       "      <td>Good morning</td>\n",
       "      <td>patient_greet</td>\n",
       "    </tr>\n",
       "    <tr>\n",
       "      <th>4</th>\n",
       "      <td>Good afternoon</td>\n",
       "      <td>patient_greet</td>\n",
       "    </tr>\n",
       "    <tr>\n",
       "      <th>...</th>\n",
       "      <td>...</td>\n",
       "      <td>...</td>\n",
       "    </tr>\n",
       "    <tr>\n",
       "      <th>450</th>\n",
       "      <td>Unfortunately, I have a conflicting schedule.</td>\n",
       "      <td>patient_rejection</td>\n",
       "    </tr>\n",
       "    <tr>\n",
       "      <th>451</th>\n",
       "      <td>Sorry, that time doesn't suit my availability.</td>\n",
       "      <td>patient_rejection</td>\n",
       "    </tr>\n",
       "    <tr>\n",
       "      <th>452</th>\n",
       "      <td>I need to cancel as I have another appointment.</td>\n",
       "      <td>patient_rejection</td>\n",
       "    </tr>\n",
       "    <tr>\n",
       "      <th>453</th>\n",
       "      <td>Unfortunately, I won't be available at that time.</td>\n",
       "      <td>patient_rejection</td>\n",
       "    </tr>\n",
       "    <tr>\n",
       "      <th>454</th>\n",
       "      <td>Sorry, that time doesn't suit my schedule.</td>\n",
       "      <td>patient_rejection</td>\n",
       "    </tr>\n",
       "  </tbody>\n",
       "</table>\n",
       "<p>455 rows × 2 columns</p>\n",
       "</div>"
      ]
     },
     "execution_count": 1,
     "metadata": {},
     "output_type": "execute_result"
    }
   ],
   "execution_count": 1
  },
  {
   "metadata": {
    "ExecuteTime": {
     "end_time": "2024-05-08T17:16:09.084412Z",
     "start_time": "2024-05-08T17:16:08.675846Z"
    }
   },
   "cell_type": "code",
   "source": [
    "from sklearn.feature_extraction.text import TfidfVectorizer\n",
    "from sklearn.model_selection import train_test_split\n",
    "import joblib\n",
    "\n",
    "tfidf_vectorizer = TfidfVectorizer(lowercase=True)\n",
    "X_full = df['message'].sort_index().values\n",
    "y_full = df['message_type'].sort_index().values\n",
    "X_train, X_test, y_train, y_test = train_test_split(df['message'], df['message_type'], test_size=0.2, random_state=42)\n",
    "message_tfidf = tfidf_vectorizer.fit_transform(X_train)\n",
    "joblib.dump(tfidf_vectorizer, '../assets/nn_vectorizer.joblib')"
   ],
   "id": "19f48e813f296aca",
   "outputs": [
    {
     "data": {
      "text/plain": [
       "['../assets/nn_vectorizer.joblib']"
      ]
     },
     "execution_count": 2,
     "metadata": {},
     "output_type": "execute_result"
    }
   ],
   "execution_count": 2
  },
  {
   "metadata": {
    "ExecuteTime": {
     "end_time": "2024-05-08T17:16:11.951382Z",
     "start_time": "2024-05-08T17:16:09.086419Z"
    }
   },
   "cell_type": "code",
   "source": [
    "import tensorflow as tf\n",
    "from tensorflow.keras.models import Sequential\n",
    "from tensorflow.keras.layers import Dense\n",
    "from tensorflow.keras.utils import to_categorical\n",
    "from sklearn.preprocessing import LabelEncoder\n",
    "\n",
    "le = LabelEncoder()\n",
    "y_train_encoded = le.fit_transform(y_train)\n",
    "y_train_categorical = to_categorical(y_train_encoded)\n",
    "y_test_encoded = le.fit_transform(y_test)\n",
    "y_test_categorical = to_categorical(y_test_encoded)\n",
    "\n",
    "x_test = tfidf_vectorizer.transform(X_test)\n",
    "\n",
    "model = Sequential()\n",
    "\n",
    "model.add(Dense(units=50, activation='relu', input_shape=(message_tfidf.shape[1],)))\n",
    "\n",
    "model.add(Dense(units=30, activation='relu'))\n",
    "\n",
    "model.add(Dense(units=20, activation='relu'))\n",
    "\n",
    "model.add(Dense(len(le.classes_), activation='softmax'))"
   ],
   "id": "ba9d8be0a0d7cf7d",
   "outputs": [],
   "execution_count": 3
  },
  {
   "metadata": {
    "ExecuteTime": {
     "end_time": "2024-05-08T17:19:53.448543Z",
     "start_time": "2024-05-08T17:19:49.790058Z"
    }
   },
   "cell_type": "code",
   "source": [
    "\n",
    "model.compile(optimizer='adam', loss='categorical_crossentropy', metrics=['accuracy','categorical_crossentropy' ,'mean_squared_error', 'mean_absolute_error'])\n",
    "\n",
    "with tf.device('/gpu:0'):\n",
    "    model.fit(message_tfidf.toarray(), y_train_categorical, epochs=30, validation_data=(x_test.toarray(), y_test_categorical)) \n",
    "\n",
    "model.save('../assets/neural_network.h5')\n",
    "joblib.dump(le, '../assets/label_encoder.joblib')"
   ],
   "id": "3a2bc7cfdf6b1d50",
   "outputs": [
    {
     "name": "stdout",
     "output_type": "stream",
     "text": [
      "Epoch 1/30\n",
      "12/12 [==============================] - 0s 17ms/step - loss: 0.0010 - accuracy: 1.0000 - categorical_crossentropy: 0.0010 - mean_squared_error: 1.5831e-06 - mean_absolute_error: 5.1795e-04 - val_loss: 0.0170 - val_accuracy: 0.9890 - val_categorical_crossentropy: 0.0170 - val_mean_squared_error: 0.0020 - val_mean_absolute_error: 0.0069\n",
      "Epoch 2/30\n",
      "12/12 [==============================] - 0s 6ms/step - loss: 3.2456e-04 - accuracy: 1.0000 - categorical_crossentropy: 3.2456e-04 - mean_squared_error: 1.7425e-07 - mean_absolute_error: 1.6216e-04 - val_loss: 0.0116 - val_accuracy: 1.0000 - val_categorical_crossentropy: 0.0116 - val_mean_squared_error: 0.0012 - val_mean_absolute_error: 0.0049\n",
      "Epoch 3/30\n",
      "12/12 [==============================] - 0s 6ms/step - loss: 1.4297e-04 - accuracy: 1.0000 - categorical_crossentropy: 1.4297e-04 - mean_squared_error: 3.8879e-08 - mean_absolute_error: 7.1461e-05 - val_loss: 0.0099 - val_accuracy: 1.0000 - val_categorical_crossentropy: 0.0099 - val_mean_squared_error: 0.0010 - val_mean_absolute_error: 0.0042\n",
      "Epoch 4/30\n",
      "12/12 [==============================] - 0s 6ms/step - loss: 7.9341e-05 - accuracy: 1.0000 - categorical_crossentropy: 7.9341e-05 - mean_squared_error: 1.1373e-08 - mean_absolute_error: 3.9666e-05 - val_loss: 0.0099 - val_accuracy: 1.0000 - val_categorical_crossentropy: 0.0099 - val_mean_squared_error: 0.0011 - val_mean_absolute_error: 0.0042\n",
      "Epoch 5/30\n",
      "12/12 [==============================] - 0s 6ms/step - loss: 5.5149e-05 - accuracy: 1.0000 - categorical_crossentropy: 5.5149e-05 - mean_squared_error: 6.0506e-09 - mean_absolute_error: 2.7572e-05 - val_loss: 0.0094 - val_accuracy: 1.0000 - val_categorical_crossentropy: 0.0094 - val_mean_squared_error: 0.0011 - val_mean_absolute_error: 0.0040\n",
      "Epoch 6/30\n",
      "12/12 [==============================] - 0s 6ms/step - loss: 4.1595e-05 - accuracy: 1.0000 - categorical_crossentropy: 4.1595e-05 - mean_squared_error: 3.5692e-09 - mean_absolute_error: 2.0796e-05 - val_loss: 0.0088 - val_accuracy: 1.0000 - val_categorical_crossentropy: 0.0088 - val_mean_squared_error: 9.8438e-04 - val_mean_absolute_error: 0.0037\n",
      "Epoch 7/30\n",
      "12/12 [==============================] - 0s 6ms/step - loss: 3.3784e-05 - accuracy: 1.0000 - categorical_crossentropy: 3.3784e-05 - mean_squared_error: 2.3836e-09 - mean_absolute_error: 1.6892e-05 - val_loss: 0.0081 - val_accuracy: 1.0000 - val_categorical_crossentropy: 0.0081 - val_mean_squared_error: 8.8705e-04 - val_mean_absolute_error: 0.0035\n",
      "Epoch 8/30\n",
      "12/12 [==============================] - 0s 6ms/step - loss: 2.7877e-05 - accuracy: 1.0000 - categorical_crossentropy: 2.7877e-05 - mean_squared_error: 1.5671e-09 - mean_absolute_error: 1.3939e-05 - val_loss: 0.0083 - val_accuracy: 1.0000 - val_categorical_crossentropy: 0.0083 - val_mean_squared_error: 9.3571e-04 - val_mean_absolute_error: 0.0035\n",
      "Epoch 9/30\n",
      "12/12 [==============================] - 0s 6ms/step - loss: 2.3987e-05 - accuracy: 1.0000 - categorical_crossentropy: 2.3987e-05 - mean_squared_error: 1.1977e-09 - mean_absolute_error: 1.1992e-05 - val_loss: 0.0079 - val_accuracy: 1.0000 - val_categorical_crossentropy: 0.0079 - val_mean_squared_error: 8.7395e-04 - val_mean_absolute_error: 0.0033\n",
      "Epoch 10/30\n",
      "12/12 [==============================] - 0s 6ms/step - loss: 2.0673e-05 - accuracy: 1.0000 - categorical_crossentropy: 2.0673e-05 - mean_squared_error: 9.0295e-10 - mean_absolute_error: 1.0337e-05 - val_loss: 0.0074 - val_accuracy: 1.0000 - val_categorical_crossentropy: 0.0074 - val_mean_squared_error: 7.9965e-04 - val_mean_absolute_error: 0.0032\n",
      "Epoch 11/30\n",
      "12/12 [==============================] - 0s 7ms/step - loss: 1.8122e-05 - accuracy: 1.0000 - categorical_crossentropy: 1.8122e-05 - mean_squared_error: 7.0585e-10 - mean_absolute_error: 9.0608e-06 - val_loss: 0.0073 - val_accuracy: 1.0000 - val_categorical_crossentropy: 0.0073 - val_mean_squared_error: 7.9567e-04 - val_mean_absolute_error: 0.0031\n",
      "Epoch 12/30\n",
      "12/12 [==============================] - 0s 6ms/step - loss: 1.5923e-05 - accuracy: 1.0000 - categorical_crossentropy: 1.5923e-05 - mean_squared_error: 5.4063e-10 - mean_absolute_error: 7.9624e-06 - val_loss: 0.0071 - val_accuracy: 1.0000 - val_categorical_crossentropy: 0.0071 - val_mean_squared_error: 7.6513e-04 - val_mean_absolute_error: 0.0030\n",
      "Epoch 13/30\n",
      "12/12 [==============================] - 0s 6ms/step - loss: 1.4114e-05 - accuracy: 1.0000 - categorical_crossentropy: 1.4114e-05 - mean_squared_error: 4.2492e-10 - mean_absolute_error: 7.0583e-06 - val_loss: 0.0070 - val_accuracy: 1.0000 - val_categorical_crossentropy: 0.0070 - val_mean_squared_error: 7.6423e-04 - val_mean_absolute_error: 0.0030\n",
      "Epoch 14/30\n",
      "12/12 [==============================] - 0s 7ms/step - loss: 1.2698e-05 - accuracy: 1.0000 - categorical_crossentropy: 1.2698e-05 - mean_squared_error: 3.4677e-10 - mean_absolute_error: 6.3501e-06 - val_loss: 0.0069 - val_accuracy: 1.0000 - val_categorical_crossentropy: 0.0069 - val_mean_squared_error: 7.5646e-04 - val_mean_absolute_error: 0.0030\n",
      "Epoch 15/30\n",
      "12/12 [==============================] - 0s 9ms/step - loss: 1.1485e-05 - accuracy: 1.0000 - categorical_crossentropy: 1.1485e-05 - mean_squared_error: 2.8373e-10 - mean_absolute_error: 5.7449e-06 - val_loss: 0.0068 - val_accuracy: 1.0000 - val_categorical_crossentropy: 0.0068 - val_mean_squared_error: 7.3893e-04 - val_mean_absolute_error: 0.0029\n",
      "Epoch 16/30\n",
      "12/12 [==============================] - 0s 9ms/step - loss: 1.0407e-05 - accuracy: 1.0000 - categorical_crossentropy: 1.0407e-05 - mean_squared_error: 2.3494e-10 - mean_absolute_error: 5.2054e-06 - val_loss: 0.0067 - val_accuracy: 1.0000 - val_categorical_crossentropy: 0.0067 - val_mean_squared_error: 7.3049e-04 - val_mean_absolute_error: 0.0029\n",
      "Epoch 17/30\n",
      "12/12 [==============================] - 0s 9ms/step - loss: 9.4870e-06 - accuracy: 1.0000 - categorical_crossentropy: 9.4870e-06 - mean_squared_error: 1.9538e-10 - mean_absolute_error: 4.7453e-06 - val_loss: 0.0066 - val_accuracy: 1.0000 - val_categorical_crossentropy: 0.0066 - val_mean_squared_error: 7.1172e-04 - val_mean_absolute_error: 0.0028\n",
      "Epoch 18/30\n",
      "12/12 [==============================] - 0s 7ms/step - loss: 8.6454e-06 - accuracy: 1.0000 - categorical_crossentropy: 8.6454e-06 - mean_squared_error: 1.6354e-10 - mean_absolute_error: 4.3247e-06 - val_loss: 0.0066 - val_accuracy: 1.0000 - val_categorical_crossentropy: 0.0066 - val_mean_squared_error: 7.3201e-04 - val_mean_absolute_error: 0.0028\n",
      "Epoch 19/30\n",
      "12/12 [==============================] - 0s 7ms/step - loss: 7.9374e-06 - accuracy: 1.0000 - categorical_crossentropy: 7.9374e-06 - mean_squared_error: 1.3931e-10 - mean_absolute_error: 3.9729e-06 - val_loss: 0.0063 - val_accuracy: 1.0000 - val_categorical_crossentropy: 0.0063 - val_mean_squared_error: 6.7959e-04 - val_mean_absolute_error: 0.0027\n",
      "Epoch 20/30\n",
      "12/12 [==============================] - 0s 7ms/step - loss: 7.2890e-06 - accuracy: 1.0000 - categorical_crossentropy: 7.2890e-06 - mean_squared_error: 1.1746e-10 - mean_absolute_error: 3.6470e-06 - val_loss: 0.0064 - val_accuracy: 1.0000 - val_categorical_crossentropy: 0.0064 - val_mean_squared_error: 6.9506e-04 - val_mean_absolute_error: 0.0027\n",
      "Epoch 21/30\n",
      "12/12 [==============================] - 0s 7ms/step - loss: 6.7516e-06 - accuracy: 1.0000 - categorical_crossentropy: 6.7516e-06 - mean_squared_error: 1.0160e-10 - mean_absolute_error: 3.3788e-06 - val_loss: 0.0063 - val_accuracy: 1.0000 - val_categorical_crossentropy: 0.0063 - val_mean_squared_error: 6.8158e-04 - val_mean_absolute_error: 0.0027\n",
      "Epoch 22/30\n",
      "12/12 [==============================] - 0s 7ms/step - loss: 6.2453e-06 - accuracy: 1.0000 - categorical_crossentropy: 6.2453e-06 - mean_squared_error: 8.6822e-11 - mean_absolute_error: 3.1266e-06 - val_loss: 0.0062 - val_accuracy: 1.0000 - val_categorical_crossentropy: 0.0062 - val_mean_squared_error: 6.7860e-04 - val_mean_absolute_error: 0.0027\n",
      "Epoch 23/30\n",
      "12/12 [==============================] - 0s 7ms/step - loss: 5.8274e-06 - accuracy: 1.0000 - categorical_crossentropy: 5.8274e-06 - mean_squared_error: 7.6131e-11 - mean_absolute_error: 2.9157e-06 - val_loss: 0.0062 - val_accuracy: 1.0000 - val_categorical_crossentropy: 0.0062 - val_mean_squared_error: 6.7855e-04 - val_mean_absolute_error: 0.0027\n",
      "Epoch 24/30\n",
      "12/12 [==============================] - 0s 7ms/step - loss: 5.4498e-06 - accuracy: 1.0000 - categorical_crossentropy: 5.4498e-06 - mean_squared_error: 6.6786e-11 - mean_absolute_error: 2.7283e-06 - val_loss: 0.0061 - val_accuracy: 1.0000 - val_categorical_crossentropy: 0.0061 - val_mean_squared_error: 6.6481e-04 - val_mean_absolute_error: 0.0026\n",
      "Epoch 25/30\n",
      "12/12 [==============================] - 0s 7ms/step - loss: 5.1115e-06 - accuracy: 1.0000 - categorical_crossentropy: 5.1115e-06 - mean_squared_error: 5.8561e-11 - mean_absolute_error: 2.5575e-06 - val_loss: 0.0061 - val_accuracy: 1.0000 - val_categorical_crossentropy: 0.0061 - val_mean_squared_error: 6.7128e-04 - val_mean_absolute_error: 0.0026\n",
      "Epoch 26/30\n",
      "12/12 [==============================] - 0s 7ms/step - loss: 4.8079e-06 - accuracy: 1.0000 - categorical_crossentropy: 4.8079e-06 - mean_squared_error: 5.2313e-11 - mean_absolute_error: 2.4070e-06 - val_loss: 0.0061 - val_accuracy: 1.0000 - val_categorical_crossentropy: 0.0061 - val_mean_squared_error: 6.6503e-04 - val_mean_absolute_error: 0.0026\n",
      "Epoch 27/30\n",
      "12/12 [==============================] - 0s 7ms/step - loss: 4.5099e-06 - accuracy: 1.0000 - categorical_crossentropy: 4.5099e-06 - mean_squared_error: 4.5997e-11 - mean_absolute_error: 2.2560e-06 - val_loss: 0.0059 - val_accuracy: 1.0000 - val_categorical_crossentropy: 0.0059 - val_mean_squared_error: 6.3767e-04 - val_mean_absolute_error: 0.0025\n",
      "Epoch 28/30\n",
      "12/12 [==============================] - 0s 7ms/step - loss: 4.2476e-06 - accuracy: 1.0000 - categorical_crossentropy: 4.2476e-06 - mean_squared_error: 4.0830e-11 - mean_absolute_error: 2.1283e-06 - val_loss: 0.0059 - val_accuracy: 1.0000 - val_categorical_crossentropy: 0.0059 - val_mean_squared_error: 6.3081e-04 - val_mean_absolute_error: 0.0025\n",
      "Epoch 29/30\n",
      "12/12 [==============================] - 0s 7ms/step - loss: 4.0157e-06 - accuracy: 1.0000 - categorical_crossentropy: 4.0157e-06 - mean_squared_error: 3.6412e-11 - mean_absolute_error: 2.0106e-06 - val_loss: 0.0057 - val_accuracy: 1.0000 - val_categorical_crossentropy: 0.0057 - val_mean_squared_error: 6.1366e-04 - val_mean_absolute_error: 0.0025\n",
      "Epoch 30/30\n",
      "12/12 [==============================] - 0s 6ms/step - loss: 3.7983e-06 - accuracy: 1.0000 - categorical_crossentropy: 3.7983e-06 - mean_squared_error: 3.2719e-11 - mean_absolute_error: 1.9017e-06 - val_loss: 0.0058 - val_accuracy: 1.0000 - val_categorical_crossentropy: 0.0058 - val_mean_squared_error: 6.3343e-04 - val_mean_absolute_error: 0.0025\n"
     ]
    },
    {
     "data": {
      "text/plain": [
       "['../assets/label_encoder.joblib']"
      ]
     },
     "execution_count": 9,
     "metadata": {},
     "output_type": "execute_result"
    }
   ],
   "execution_count": 9
  }
 ],
 "metadata": {
  "kernelspec": {
   "display_name": "Python 3",
   "language": "python",
   "name": "python3"
  },
  "language_info": {
   "codemirror_mode": {
    "name": "ipython",
    "version": 2
   },
   "file_extension": ".py",
   "mimetype": "text/x-python",
   "name": "python",
   "nbconvert_exporter": "python",
   "pygments_lexer": "ipython2",
   "version": "2.7.6"
  }
 },
 "nbformat": 4,
 "nbformat_minor": 5
}
